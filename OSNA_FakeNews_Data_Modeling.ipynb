{
 "cells": [
  {
   "cell_type": "markdown",
   "metadata": {
    "id": "1iKwWx2LbOWC"
   },
   "source": [
    "#Project 2\n",
    "\n",
    "- Student 1: \n",
    "\n",
    "Chandni Patel\n",
    "\n",
    "A20455322\n",
    "\n",
    "- Student 2:\n",
    "\n",
    "Omkar Pawar\n",
    "\n",
    "A20448802"
   ]
  },
  {
   "cell_type": "code",
   "execution_count": 35,
   "metadata": {
    "colab": {
     "base_uri": "https://localhost:8080/"
    },
    "id": "TSbB1V9qV__f",
    "outputId": "3d8e0614-c3e7-4ec0-8398-b317cabe3add"
   },
   "outputs": [],
   "source": [
    "import numpy as np # linear algebra\n",
    "import pandas as pd # data processing, CSV file I/O (e.g. pd.read_csv)\n",
    "from sklearn.naive_bayes import MultinomialNB\n",
    "from sklearn.metrics import accuracy_score\n",
    "\n",
    "import nltk, re, string, collections\n",
    "from nltk.tokenize import word_tokenize\n",
    "from nltk.corpus import stopwords\n",
    "import string\n",
    "\n",
    "from sklearn.feature_extraction.text import CountVectorizer\n",
    "from sklearn.feature_extraction.text import TfidfTransformer\n",
    "from sklearn.linear_model import LogisticRegression\n",
    "import csv\n",
    "from scipy import sparse\n",
    "\n",
    "from sklearn.metrics import pairwise_distances\n",
    "from sklearn.metrics.pairwise import euclidean_distances, cosine_similarity\n",
    "from sklearn.neural_network import MLPClassifier\n",
    "import pickle"
   ]
  },
  {
   "cell_type": "markdown",
   "metadata": {
    "id": "9DeQlkQOWnhz"
   },
   "source": [
    "## Load Preprocessed train and test data"
   ]
  },
  {
   "cell_type": "code",
   "execution_count": 36,
   "metadata": {
    "id": "OeVDTHCKWDJE"
   },
   "outputs": [],
   "source": [
    "train_preprocessed = pd.read_csv(\"train_preprocessed.csv\")\n",
    "train_labels = pd.read_csv(\"train.csv\",usecols=[5])\n",
    "test_preprocessed = pd.read_csv(\"test_preprocessed.csv\")"
   ]
  },
  {
   "cell_type": "markdown",
   "metadata": {
    "id": "ldOXhhDqXg8g"
   },
   "source": [
    "Create Vocabulary "
   ]
  },
  {
   "cell_type": "code",
   "execution_count": 37,
   "metadata": {
    "id": "XOOcsqv8XRHA"
   },
   "outputs": [],
   "source": [
    "vectorizer = CountVectorizer()\n",
    "feature = train_preprocessed[\"title1_en\"] + train_preprocessed[\"title2_en\"]\n",
    "train_headline_counts = vectorizer.fit_transform(list(feature))\n",
    "vocab = (list(vectorizer.vocabulary_.keys()))\n",
    "\n",
    "vectorizer = CountVectorizer(vocabulary=vocab)\n",
    "transformer = TfidfTransformer()"
   ]
  },
  {
   "cell_type": "markdown",
   "metadata": {
    "id": "_TR-346DXrX4"
   },
   "source": [
    "Create features using TF - IDF for training"
   ]
  },
  {
   "cell_type": "code",
   "execution_count": 24,
   "metadata": {
    "id": "hmjlc0aJXftG"
   },
   "outputs": [],
   "source": [
    "#Title1\n",
    "title_1 = train_preprocessed[\"title1_en\"]\n",
    "\n",
    "title1_counts = vectorizer.fit_transform(list(title_1))\n",
    "title1_tfidf = transformer.fit_transform(title1_counts)\n",
    "\n",
    "#Title 2\n",
    "title_2 = train_preprocessed[\"title2_en\"]\n",
    "\n",
    "title2_counts = vectorizer.fit_transform(list(title_2))\n",
    "title2_tfidf = transformer.fit_transform(title2_counts)\n",
    "\n",
    "# Create a feature with two tfidf columns\n",
    "final_feature = sparse.hstack([title1_tfidf,title2_tfidf])\n"
   ]
  },
  {
   "cell_type": "markdown",
   "metadata": {
    "id": "r6-pPa2SW7o7"
   },
   "source": [
    "# Similarity Approach"
   ]
  },
  {
   "cell_type": "markdown",
   "metadata": {
    "id": "M5qPDreic9Hu"
   },
   "source": [
    "Functions to get similarities"
   ]
  },
  {
   "cell_type": "code",
   "execution_count": 5,
   "metadata": {
    "id": "pksvJXkeWtXm"
   },
   "outputs": [],
   "source": [
    "def cosine(trans):\n",
    "  return (cosine_similarity(trans[0],trans[1]))[0][0]\n",
    "\n",
    "def manhattan_distance(trans):\n",
    "  return (pairwise_distances(trans[0],trans[1],metric = \"manhattan\")[0][0])\n",
    "\n",
    "def euclidean_distance(trans):\n",
    "  euc=euclidean_distances(trans[0], trans[1])\n",
    "  return euc[0][0]"
   ]
  },
  {
   "cell_type": "markdown",
   "metadata": {
    "id": "-yz5u9MNdFdB"
   },
   "source": [
    "Create features using similarity"
   ]
  },
  {
   "cell_type": "code",
   "execution_count": 6,
   "metadata": {
    "id": "8Bbk9f_jXAtU"
   },
   "outputs": [],
   "source": [
    "def similarity_features(df,title1_counts,title2_counts):\n",
    "  count = len(df[\"title1_en\"])\n",
    "  cos_similarities = []\n",
    "  #manhattan_ = []\n",
    "  #e_distances = []\n",
    "\n",
    "  for i in (range(count)):  \n",
    "    corpus = [title1_counts[i],title2_counts[i]]\n",
    "    #trans = vectorizer.transform(corpus)\n",
    "    cos_similarities.append(cosine(corpus))\n",
    "    #manhattan_.append(manhattan_distance(trans))\n",
    "    #e_distances.append(euclidean_distance(trans))\n",
    "\n",
    "  new_train = pd.DataFrame()\n",
    "  new_train[\"cos\"] = cos_similarities\n",
    "  #new_train[\"manh\"] = manhattan_\n",
    "  #new_train[\"euc\"] = e_distances\n",
    "\n",
    "  return new_train"
   ]
  },
  {
   "cell_type": "code",
   "execution_count": 7,
   "metadata": {
    "id": "28D1j6WTYL3G"
   },
   "outputs": [],
   "source": [
    "feature_train = similarity_features(train_preprocessed,title1_counts,title2_counts)"
   ]
  },
  {
   "cell_type": "markdown",
   "metadata": {
    "id": "OVvKsY9xYcpP"
   },
   "source": [
    "# Data Modeling"
   ]
  },
  {
   "cell_type": "markdown",
   "metadata": {
    "id": "NtFMVDPYdR8S"
   },
   "source": [
    "### Naive Bayes\n",
    "- Using Similarity feature"
   ]
  },
  {
   "cell_type": "code",
   "execution_count": 9,
   "metadata": {
    "colab": {
     "base_uri": "https://localhost:8080/"
    },
    "id": "ityjbPwiYcAf",
    "outputId": "aa1fc7c0-4231-4612-f6ac-ea18bb17f928"
   },
   "outputs": [
    {
     "name": "stderr",
     "output_type": "stream",
     "text": [
      "C:\\Users\\imcha\\Anaconda3\\lib\\site-packages\\sklearn\\utils\\validation.py:72: DataConversionWarning: A column-vector y was passed when a 1d array was expected. Please change the shape of y to (n_samples, ), for example using ravel().\n",
      "  return f(**kwargs)\n"
     ]
    },
    {
     "data": {
      "text/plain": [
       "0.6847474282683804"
      ]
     },
     "execution_count": 9,
     "metadata": {},
     "output_type": "execute_result"
    }
   ],
   "source": [
    "mnb = MultinomialNB()\n",
    "mnb.fit(feature_train, train_labels)\n",
    "mnb_preds = mnb.predict(feature_train)\n",
    "accuracy_score(mnb_preds,train_labels)"
   ]
  },
  {
   "cell_type": "markdown",
   "metadata": {
    "id": "KidOrFlPZuWt"
   },
   "source": [
    "- Using TF - IDF Feature"
   ]
  },
  {
   "cell_type": "code",
   "execution_count": 10,
   "metadata": {
    "colab": {
     "base_uri": "https://localhost:8080/"
    },
    "id": "XSuKvIdcXIhy",
    "outputId": "741f8890-4cf7-4479-978f-0f08974fd8ae"
   },
   "outputs": [
    {
     "name": "stderr",
     "output_type": "stream",
     "text": [
      "C:\\Users\\imcha\\Anaconda3\\lib\\site-packages\\sklearn\\utils\\validation.py:72: DataConversionWarning: A column-vector y was passed when a 1d array was expected. Please change the shape of y to (n_samples, ), for example using ravel().\n",
      "  return f(**kwargs)\n"
     ]
    },
    {
     "data": {
      "text/plain": [
       "0.7891881985010256"
      ]
     },
     "execution_count": 10,
     "metadata": {},
     "output_type": "execute_result"
    }
   ],
   "source": [
    "mnb = MultinomialNB()\n",
    "mnb.fit(final_feature, train_labels)\n",
    "mnb_preds = mnb.predict(final_feature)\n",
    "accuracy_score(mnb_preds,train_labels)"
   ]
  },
  {
   "cell_type": "markdown",
   "metadata": {
    "id": "_LMyGzhFZema"
   },
   "source": [
    "### Logistic Regression\n",
    "- Using Similarity feature"
   ]
  },
  {
   "cell_type": "code",
   "execution_count": 11,
   "metadata": {
    "colab": {
     "base_uri": "https://localhost:8080/"
    },
    "id": "7TpN8YmIZZB8",
    "outputId": "024a4fe2-7f49-4054-8f13-c5de7d936f7b"
   },
   "outputs": [
    {
     "name": "stderr",
     "output_type": "stream",
     "text": [
      "C:\\Users\\imcha\\Anaconda3\\lib\\site-packages\\sklearn\\utils\\validation.py:72: DataConversionWarning: A column-vector y was passed when a 1d array was expected. Please change the shape of y to (n_samples, ), for example using ravel().\n",
      "  return f(**kwargs)\n"
     ]
    },
    {
     "data": {
      "text/plain": [
       "0.7502593178964444"
      ]
     },
     "execution_count": 11,
     "metadata": {},
     "output_type": "execute_result"
    }
   ],
   "source": [
    "lr = LogisticRegression(solver = 'saga',multi_class='multinomial')\n",
    "lr.fit(feature_train, train_labels)\n",
    "lr.score(feature_train,train_labels)"
   ]
  },
  {
   "cell_type": "markdown",
   "metadata": {
    "id": "VjHVnBuodfG0"
   },
   "source": [
    "- Using TF - IDF Feature"
   ]
  },
  {
   "cell_type": "code",
   "execution_count": 12,
   "metadata": {
    "colab": {
     "base_uri": "https://localhost:8080/"
    },
    "id": "fWJIFCrjZz4M",
    "outputId": "8b794de2-d6d0-4206-98c1-6ef5ef0f672b"
   },
   "outputs": [
    {
     "name": "stderr",
     "output_type": "stream",
     "text": [
      "C:\\Users\\imcha\\Anaconda3\\lib\\site-packages\\sklearn\\utils\\validation.py:72: DataConversionWarning: A column-vector y was passed when a 1d array was expected. Please change the shape of y to (n_samples, ), for example using ravel().\n",
      "  return f(**kwargs)\n"
     ]
    },
    {
     "data": {
      "text/plain": [
       "0.8548248726807621"
      ]
     },
     "execution_count": 12,
     "metadata": {},
     "output_type": "execute_result"
    }
   ],
   "source": [
    "lr = LogisticRegression(solver = 'saga',multi_class='multinomial')\n",
    "lr.fit(final_feature, train_labels)\n",
    "lr.score(final_feature,train_labels)"
   ]
  },
  {
   "cell_type": "markdown",
   "metadata": {
    "id": "Ymt8eHfcZ85r"
   },
   "source": [
    "### Multi-Layer Perceptron Classifier\n",
    "- Using Similarity feature"
   ]
  },
  {
   "cell_type": "code",
   "execution_count": 13,
   "metadata": {
    "colab": {
     "base_uri": "https://localhost:8080/"
    },
    "id": "RCohpyVOZ3Wc",
    "outputId": "ff50c311-91ff-46db-8015-e7d5ad2394f4"
   },
   "outputs": [
    {
     "name": "stderr",
     "output_type": "stream",
     "text": [
      "C:\\Users\\imcha\\Anaconda3\\lib\\site-packages\\sklearn\\utils\\validation.py:72: DataConversionWarning: A column-vector y was passed when a 1d array was expected. Please change the shape of y to (n_samples, ), for example using ravel().\n",
      "  return f(**kwargs)\n"
     ]
    },
    {
     "name": "stdout",
     "output_type": "stream",
     "text": [
      "Iteration 1, loss = 0.60131442\n",
      "Iteration 2, loss = 0.58693848\n",
      "Iteration 3, loss = 0.58650514\n",
      "Iteration 4, loss = 0.58629866\n",
      "Iteration 5, loss = 0.58630287\n",
      "Iteration 6, loss = 0.58628244\n",
      "Iteration 7, loss = 0.58609032\n",
      "Iteration 8, loss = 0.58620666\n",
      "Iteration 9, loss = 0.58609599\n",
      "Iteration 10, loss = 0.58607179\n",
      "Iteration 11, loss = 0.58607914\n",
      "Iteration 12, loss = 0.58602732\n",
      "Iteration 13, loss = 0.58595573\n",
      "Iteration 14, loss = 0.58604989\n",
      "Iteration 15, loss = 0.58601322\n",
      "Iteration 16, loss = 0.58604475\n",
      "Iteration 17, loss = 0.58595376\n",
      "Iteration 18, loss = 0.58602343\n",
      "Training loss did not improve more than tol=0.000100 for 10 consecutive epochs. Stopping.\n"
     ]
    },
    {
     "data": {
      "text/plain": [
       "0.7501150357585731"
      ]
     },
     "execution_count": 13,
     "metadata": {},
     "output_type": "execute_result"
    }
   ],
   "source": [
    "mlp = MLPClassifier(activation = \"relu\",\n",
    "                    random_state=1, \n",
    "                    max_iter=20,\n",
    "                    solver = \"adam\",\n",
    "                    learning_rate = \"adaptive\",\n",
    "                    batch_size = 128,\n",
    "                    hidden_layer_sizes = (100),\n",
    "                    verbose = True,\n",
    "                    shuffle = True)\n",
    "\n",
    "mlp.fit(feature_train,train_labels)\n",
    "mlp.score(feature_train,train_labels)"
   ]
  },
  {
   "cell_type": "markdown",
   "metadata": {
    "id": "dzcGR61TdiO4"
   },
   "source": [
    "- Using TF - IDF Feature"
   ]
  },
  {
   "cell_type": "code",
   "execution_count": 14,
   "metadata": {
    "colab": {
     "base_uri": "https://localhost:8080/"
    },
    "id": "sMs9AZnQaVBL",
    "outputId": "0f06e4ff-c746-48ad-e780-f15ccd0bfa54"
   },
   "outputs": [
    {
     "name": "stderr",
     "output_type": "stream",
     "text": [
      "C:\\Users\\imcha\\Anaconda3\\lib\\site-packages\\sklearn\\utils\\validation.py:72: DataConversionWarning: A column-vector y was passed when a 1d array was expected. Please change the shape of y to (n_samples, ), for example using ravel().\n",
      "  return f(**kwargs)\n"
     ]
    },
    {
     "name": "stdout",
     "output_type": "stream",
     "text": [
      "Iteration 1, loss = 0.47291546\n",
      "Iteration 2, loss = 0.30305561\n",
      "Iteration 3, loss = 0.21700067\n",
      "Iteration 4, loss = 0.15996584\n",
      "Iteration 5, loss = 0.11862220\n",
      "Iteration 6, loss = 0.08926402\n",
      "Iteration 7, loss = 0.06853299\n",
      "Iteration 8, loss = 0.05372237\n",
      "Iteration 9, loss = 0.04416687\n",
      "Iteration 10, loss = 0.03710379\n",
      "Iteration 11, loss = 0.03255048\n",
      "Iteration 12, loss = 0.02902094\n",
      "Iteration 13, loss = 0.02654663\n",
      "Iteration 14, loss = 0.02527384\n",
      "Iteration 15, loss = 0.02333163\n",
      "Iteration 16, loss = 0.02244587\n",
      "Iteration 17, loss = 0.02183874\n",
      "Iteration 18, loss = 0.02106057\n",
      "Iteration 19, loss = 0.02001608\n",
      "Iteration 20, loss = 0.01990010\n"
     ]
    },
    {
     "name": "stderr",
     "output_type": "stream",
     "text": [
      "C:\\Users\\imcha\\Anaconda3\\lib\\site-packages\\sklearn\\neural_network\\_multilayer_perceptron.py:585: ConvergenceWarning: Stochastic Optimizer: Maximum iterations (20) reached and the optimization hasn't converged yet.\n",
      "  % self.max_iter, ConvergenceWarning)\n"
     ]
    },
    {
     "data": {
      "text/plain": [
       "MLPClassifier(batch_size=128, hidden_layer_sizes=100, learning_rate='adaptive',\n",
       "              max_iter=20, random_state=1, verbose=True)"
      ]
     },
     "execution_count": 14,
     "metadata": {},
     "output_type": "execute_result"
    }
   ],
   "source": [
    "mlp = MLPClassifier(activation = \"relu\",\n",
    "                    random_state=1, \n",
    "                    max_iter=20,\n",
    "                    solver = \"adam\",\n",
    "                    learning_rate = \"adaptive\",\n",
    "                    batch_size = 128,\n",
    "                    hidden_layer_sizes = (100),\n",
    "                    verbose = True,\n",
    "                    shuffle = True)\n",
    "\n",
    "mlp.fit(final_feature,train_labels)"
   ]
  },
  {
   "cell_type": "code",
   "execution_count": 29,
   "metadata": {
    "colab": {
     "base_uri": "https://localhost:8080/"
    },
    "id": "2tQZ9isTtJmF",
    "outputId": "046d7c42-659c-413d-e6ec-9b4ce630f7c4"
   },
   "outputs": [
    {
     "data": {
      "text/plain": [
       "0.9982374182076259"
      ]
     },
     "execution_count": 29,
     "metadata": {},
     "output_type": "execute_result"
    }
   ],
   "source": [
    "mlp.score(final_feature,train_labels)"
   ]
  },
  {
   "cell_type": "markdown",
   "metadata": {},
   "source": [
    "- Save the best model"
   ]
  },
  {
   "cell_type": "code",
   "execution_count": null,
   "metadata": {},
   "outputs": [],
   "source": [
    "pickle.dump(mlp, open(\"MLP_Model.sav\", 'wb'))"
   ]
  },
  {
   "cell_type": "markdown",
   "metadata": {
    "id": "xxC5ap6Xd1IW"
   },
   "source": [
    "### Testing \n",
    "Create TF - IDF features for test data"
   ]
  },
  {
   "cell_type": "code",
   "execution_count": 25,
   "metadata": {
    "id": "ttjC01jia_OV"
   },
   "outputs": [],
   "source": [
    "#Title1\n",
    "test_title_1 = test_preprocessed[\"title1_en\"]\n",
    "\n",
    "test_title1_counts = vectorizer.fit_transform(list(test_title_1))\n",
    "test_title1_tfidf = transformer.fit_transform(test_title1_counts)\n",
    "\n",
    "#Title 2\n",
    "test_title_2 = test_preprocessed[\"title2_en\"]\n",
    "\n",
    "test_title2_counts = vectorizer.fit_transform(list(test_title_2))\n",
    "test_title2_tfidf = transformer.fit_transform(test_title2_counts)\n",
    "\n",
    "# Create a feature with two tfidf columns\n",
    "final_feature_test = sparse.hstack([test_title1_tfidf,test_title2_tfidf])"
   ]
  },
  {
   "cell_type": "markdown",
   "metadata": {},
   "source": [
    "Predict and create submission for testing"
   ]
  },
  {
   "cell_type": "code",
   "execution_count": 32,
   "metadata": {
    "id": "pO9uyvlJeSKl"
   },
   "outputs": [],
   "source": [
    "def create_submission(test_preprocessed,pred):\n",
    "  test_id = test_preprocessed[\"id\"]\n",
    "  submit = pd.DataFrame()\n",
    "  submit[\"id\"] = test_id\n",
    "  submit[\"label\"] = pred\n",
    "  submit.to_csv(\"submission.csv\",index = False)"
   ]
  },
  {
   "cell_type": "code",
   "execution_count": 33,
   "metadata": {},
   "outputs": [],
   "source": [
    "test_preds = mlp.predict(final_feature_test)\n",
    "create_submission(test_preprocessed,test_preds)"
   ]
  },
  {
   "cell_type": "markdown",
   "metadata": {},
   "source": [
    "Load best model (if required)"
   ]
  },
  {
   "cell_type": "code",
   "execution_count": 30,
   "metadata": {},
   "outputs": [],
   "source": [
    "best_model = pickle.load(open(\"MLP_Model.sav\", 'rb'))\n",
    "test_preds = best_model.predict(final_feature_test)\n",
    "create_submission(test_preprocessed,test_preds)"
   ]
  },
  {
   "cell_type": "code",
   "execution_count": null,
   "metadata": {
    "id": "y_hsMZMptQBD"
   },
   "outputs": [],
   "source": []
  }
 ],
 "metadata": {
  "colab": {
   "name": "OSNA_FakeNews_Data_Modeling.ipynb",
   "provenance": []
  },
  "kernelspec": {
   "display_name": "Python 3",
   "language": "python",
   "name": "python3"
  },
  "language_info": {
   "codemirror_mode": {
    "name": "ipython",
    "version": 3
   },
   "file_extension": ".py",
   "mimetype": "text/x-python",
   "name": "python",
   "nbconvert_exporter": "python",
   "pygments_lexer": "ipython3",
   "version": "3.7.3"
  }
 },
 "nbformat": 4,
 "nbformat_minor": 1
}
